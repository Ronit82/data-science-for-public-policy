{
  "metadata": {
    "kernelspec": {
      "language": "python",
      "display_name": "Python 3",
      "name": "python3"
    },
    "language_info": {
      "pygments_lexer": "ipython3",
      "nbconvert_exporter": "python",
      "version": "3.6.4",
      "file_extension": ".py",
      "codemirror_mode": {
        "name": "ipython",
        "version": 3
      },
      "name": "python",
      "mimetype": "text/x-python"
    },
    "kaggle": {
      "accelerator": "none",
      "dataSources": [
        {
          "sourceId": 3746043,
          "sourceType": "datasetVersion",
          "datasetId": 2238945
        }
      ],
      "dockerImageVersionId": 30197,
      "isInternetEnabled": false,
      "language": "python",
      "sourceType": "notebook",
      "isGpuEnabled": false
    },
    "colab": {
      "provenance": [],
      "include_colab_link": true
    }
  },
  "nbformat_minor": 0,
  "nbformat": 4,
  "cells": [
    {
      "cell_type": "markdown",
      "metadata": {
        "id": "view-in-github",
        "colab_type": "text"
      },
      "source": [
        "<a href=\"https://colab.research.google.com/github/Ronit82/data-science-for-public-policy/blob/main/COVID19_policy_analysis.ipynb\" target=\"_parent\"><img src=\"https://colab.research.google.com/assets/colab-badge.svg\" alt=\"Open In Colab\"/></a>"
      ]
    },
    {
      "cell_type": "markdown",
      "source": [
        "### **Problem definition:**\n",
        "We want to analyze Covid-19 policies relative to the number of cases in six countries from the Balkan peninsula and we want to compare how the different countries from the region handled the crisis and we want to extract potential insights. We have chosen these countries due to the relativy close stage in economic development and sanitetion levels. Namely, the counries of interest are: 'Bulgaria','Greece','Serbia','Bosnia and Herzegovina','Romania' and 'Albania'.\n",
        "\n",
        "To solve this problem, we will make use of the famous Oxford covid policy tracker dataset - OxCGRT."
      ],
      "metadata": {
        "id": "0xW1n_lAZc7i"
      }
    },
    {
      "cell_type": "code",
      "source": [
        "import numpy as np\n",
        "import datetime as dt\n",
        "import matplotlib.pyplot as plt\n",
        "import seaborn as sns\n",
        "import pandas as pd\n",
        "import re\n",
        "import matplotlib.colors as mcolors\n",
        "\n",
        "import math\n",
        "import random\n",
        "import statsmodels.api as sm\n",
        "from statsmodels.formula.api import ols\n",
        "import statsmodels.formula.api as smf\n",
        "from sklearn.decomposition import PCA\n",
        "from statsmodels.graphics.factorplots import interaction_plot\n",
        "\n",
        "plt.style.use('ggplot')"
      ],
      "metadata": {
        "execution": {
          "iopub.status.busy": "2022-08-25T09:59:57.223499Z",
          "iopub.execute_input": "2022-08-25T09:59:57.224009Z",
          "iopub.status.idle": "2022-08-25T09:59:57.231973Z",
          "shell.execute_reply.started": "2022-08-25T09:59:57.223971Z",
          "shell.execute_reply": "2022-08-25T09:59:57.230978Z"
        },
        "trusted": true,
        "id": "hFAucGZhZc7j"
      },
      "execution_count": null,
      "outputs": []
    },
    {
      "cell_type": "markdown",
      "source": [
        "### Importing and review dataset\n"
      ],
      "metadata": {
        "id": "0NVJMni_Zc7j"
      }
    },
    {
      "cell_type": "code",
      "source": [
        "data = pd.read_csv('/content/OxCGRT_newest.csv',delimiter = \",\")\n",
        "\n",
        "data.info()"
      ],
      "metadata": {
        "execution": {
          "iopub.status.busy": "2022-08-25T09:59:57.243701Z",
          "iopub.execute_input": "2022-08-25T09:59:57.244605Z",
          "iopub.status.idle": "2022-08-25T09:59:59.287172Z",
          "shell.execute_reply.started": "2022-08-25T09:59:57.24455Z",
          "shell.execute_reply": "2022-08-25T09:59:59.286112Z"
        },
        "trusted": true,
        "id": "kH4Sym3AZc7k"
      },
      "execution_count": null,
      "outputs": []
    },
    {
      "cell_type": "markdown",
      "source": [],
      "metadata": {
        "id": "ts9DDihiZc7k"
      }
    },
    {
      "cell_type": "markdown",
      "source": [
        "### **Total number of countries in the dataset:**"
      ],
      "metadata": {
        "id": "21L_TV9GZc7k"
      }
    },
    {
      "cell_type": "code",
      "source": [
        "print('The total number of countries in the data is: ',len(data['CountryName'].unique()))"
      ],
      "metadata": {
        "execution": {
          "iopub.status.busy": "2022-08-25T09:59:59.289181Z",
          "iopub.execute_input": "2022-08-25T09:59:59.290852Z",
          "iopub.status.idle": "2022-08-25T09:59:59.31689Z",
          "shell.execute_reply.started": "2022-08-25T09:59:59.29081Z",
          "shell.execute_reply": "2022-08-25T09:59:59.315634Z"
        },
        "trusted": true,
        "id": "n0Bj_9IXZc7k"
      },
      "execution_count": null,
      "outputs": []
    },
    {
      "cell_type": "markdown",
      "source": [
        "### **Select the desired countries from the Balkan region:**"
      ],
      "metadata": {
        "id": "2KVtt9bUZc7l"
      }
    },
    {
      "cell_type": "code",
      "source": [
        "#extract the countries of interest\n",
        "countries = ['Bulgaria','Greece','Serbia',\n",
        "             'Bosnia and Herzegovina','Romania','Albania']\n",
        "\n",
        "countries.sort()\n",
        "\n",
        "data = data[data['CountryName'].isin(countries)]"
      ],
      "metadata": {
        "execution": {
          "iopub.status.busy": "2022-08-25T09:59:59.318112Z",
          "iopub.execute_input": "2022-08-25T09:59:59.31851Z",
          "iopub.status.idle": "2022-08-25T09:59:59.354011Z",
          "shell.execute_reply.started": "2022-08-25T09:59:59.318458Z",
          "shell.execute_reply": "2022-08-25T09:59:59.353218Z"
        },
        "trusted": true,
        "id": "0mLbEck4Zc7l"
      },
      "execution_count": null,
      "outputs": []
    },
    {
      "cell_type": "markdown",
      "source": [
        "### **missing values:**"
      ],
      "metadata": {
        "id": "7cOon_JnZc7l"
      }
    },
    {
      "cell_type": "code",
      "source": [
        "plt.figure(figsize = (12, 8))\n",
        "data.dtypes.value_counts().plot(kind='barh')\n",
        "plt.title(\"Datatypes summary\")"
      ],
      "metadata": {
        "execution": {
          "iopub.status.busy": "2022-08-25T09:59:59.355617Z",
          "iopub.execute_input": "2022-08-25T09:59:59.356559Z",
          "iopub.status.idle": "2022-08-25T09:59:59.562655Z",
          "shell.execute_reply.started": "2022-08-25T09:59:59.356492Z",
          "shell.execute_reply": "2022-08-25T09:59:59.561437Z"
        },
        "trusted": true,
        "id": "mnO7Er-UZc7l"
      },
      "execution_count": null,
      "outputs": []
    },
    {
      "cell_type": "code",
      "source": [
        "figure = pd.DataFrame(data.isnull().sum(),columns = [\"Missing\"]).plot(kind='barh')\n",
        "fig = plt.gcf()\n",
        "fig.set_size_inches(10,10)\n",
        "plt.title('Missing values')"
      ],
      "metadata": {
        "execution": {
          "iopub.status.busy": "2022-08-25T09:59:59.564563Z",
          "iopub.execute_input": "2022-08-25T09:59:59.565054Z",
          "iopub.status.idle": "2022-08-25T10:00:00.801049Z",
          "shell.execute_reply.started": "2022-08-25T09:59:59.565008Z",
          "shell.execute_reply": "2022-08-25T10:00:00.800039Z"
        },
        "trusted": true,
        "id": "bS5Y00YiZc7l"
      },
      "execution_count": null,
      "outputs": []
    },
    {
      "cell_type": "markdown",
      "source": [
        "### handling missing values\n"
      ],
      "metadata": {
        "id": "6X-OxSxaZc7m"
      }
    },
    {
      "cell_type": "code",
      "source": [
        "ms = pd.DataFrame(data.isnull().sum())\n",
        "ms.columns = [\"Missing\"]\n",
        "\n",
        "data = data.drop(ms.index[ms['Missing']==len(data)],axis=1)"
      ],
      "metadata": {
        "execution": {
          "iopub.status.busy": "2022-08-25T10:00:00.802277Z",
          "iopub.execute_input": "2022-08-25T10:00:00.802646Z",
          "iopub.status.idle": "2022-08-25T10:00:00.825179Z",
          "shell.execute_reply.started": "2022-08-25T10:00:00.802611Z",
          "shell.execute_reply": "2022-08-25T10:00:00.824299Z"
        },
        "trusted": true,
        "id": "DnO-HXbwZc7m"
      },
      "execution_count": null,
      "outputs": []
    },
    {
      "cell_type": "markdown",
      "source": [
        "### Fixing the dates of our series"
      ],
      "metadata": {
        "id": "pwJgqKeNZc7m"
      }
    },
    {
      "cell_type": "code",
      "source": [
        "#fix date column:\n",
        "data['Date'] = pd.to_datetime(data['Date'],format='%Y%m%d')\n",
        "data.index = data['Date']"
      ],
      "metadata": {
        "execution": {
          "iopub.status.busy": "2022-08-25T10:00:00.826547Z",
          "iopub.execute_input": "2022-08-25T10:00:00.8269Z",
          "iopub.status.idle": "2022-08-25T10:00:00.838101Z",
          "shell.execute_reply.started": "2022-08-25T10:00:00.826869Z",
          "shell.execute_reply": "2022-08-25T10:00:00.837267Z"
        },
        "trusted": true,
        "id": "kHI10SzkZc7m"
      },
      "execution_count": null,
      "outputs": []
    },
    {
      "cell_type": "markdown",
      "source": [
        "### Earlier we noticed patterns of missing data, let's look closer"
      ],
      "metadata": {
        "id": "ejXj42TzZc7m"
      }
    },
    {
      "cell_type": "code",
      "source": [
        "#plot missing dates:\n",
        "drange = pd.date_range(start = data[data['C1_School closing'].isnull()]['Date'].min(),\n",
        "                       end=data[data['C1_School closing'].isnull()]['Date'].max())\n",
        "\n",
        "#list with dates\n",
        "dates = [[] for i in range(0,len(countries))]\n",
        "\n",
        "for i in range(0,len(countries)):\n",
        "\n",
        "        dates[i] = data[(data['C1_School closing'].isnull()) &\n",
        "                                  (data['CountryName']==countries[i])]['Date']\n",
        "\n",
        "plt.figure(figsize = (12, 8))\n",
        "for i in range(0,len(dates)):\n",
        "    plt.bar(dates[i],len(dates[i]),label=countries[i])\n",
        "plt.legend(loc='best')\n",
        "plt.xticks(drange,rotation = 45);"
      ],
      "metadata": {
        "execution": {
          "iopub.status.busy": "2022-08-25T10:00:00.839273Z",
          "iopub.execute_input": "2022-08-25T10:00:00.839744Z",
          "iopub.status.idle": "2022-08-25T10:00:01.346707Z",
          "shell.execute_reply.started": "2022-08-25T10:00:00.839711Z",
          "shell.execute_reply": "2022-08-25T10:00:01.345931Z"
        },
        "trusted": true,
        "id": "cnfFpjCxZc7m"
      },
      "execution_count": null,
      "outputs": []
    },
    {
      "cell_type": "markdown",
      "source": [
        "### We will drop the records after 20 april, because they distort the analysis"
      ],
      "metadata": {
        "id": "c3OgkBz8Zc7m"
      }
    },
    {
      "cell_type": "markdown",
      "source": [],
      "metadata": {
        "id": "_OpICZq8Zc7m"
      }
    },
    {
      "cell_type": "code",
      "source": [
        "data = data.drop(data[data['Date'] >= dt.datetime(2022,4,20)].index,axis=0)"
      ],
      "metadata": {
        "execution": {
          "iopub.status.busy": "2022-08-25T10:00:01.347907Z",
          "iopub.execute_input": "2022-08-25T10:00:01.348595Z",
          "iopub.status.idle": "2022-08-25T10:00:01.360733Z",
          "shell.execute_reply.started": "2022-08-25T10:00:01.348552Z",
          "shell.execute_reply": "2022-08-25T10:00:01.359263Z"
        },
        "trusted": true,
        "id": "uD-2yfnQZc7m"
      },
      "execution_count": null,
      "outputs": []
    },
    {
      "cell_type": "markdown",
      "source": [
        "### There is also a pattern in vacine policy values NAs, for example vaccine education:"
      ],
      "metadata": {
        "id": "gTWT_gb9Zc7m"
      }
    },
    {
      "cell_type": "code",
      "source": [
        "for c in countries:\n",
        "    print(f'Missing vaccine education policy values for {c} are:\\n',data[(data['V2E_Education'].isnull())\n",
        "                                                & (data['CountryName']==c)][\"Date\"].max())\n",
        "\n",
        "for c in countries:\n",
        "    print(f'Missing vaccine education policy values values for {c} are:\\n',data[(data['V2E_Education'].isnull())\n",
        "                                                & (data['CountryName']==c)][\"Date\"].min())"
      ],
      "metadata": {
        "execution": {
          "iopub.status.busy": "2022-08-25T10:00:01.365425Z",
          "iopub.execute_input": "2022-08-25T10:00:01.366423Z",
          "iopub.status.idle": "2022-08-25T10:00:01.399637Z",
          "shell.execute_reply.started": "2022-08-25T10:00:01.366362Z",
          "shell.execute_reply": "2022-08-25T10:00:01.398538Z"
        },
        "trusted": true,
        "id": "cQrBrof2Zc7m"
      },
      "execution_count": null,
      "outputs": []
    },
    {
      "cell_type": "markdown",
      "source": [
        "### The pattern is most probably due to lack of vacine technologies at the times, we can fill missing vals with 0s"
      ],
      "metadata": {
        "id": "LET1GrEbZc7n"
      }
    },
    {
      "cell_type": "code",
      "source": [
        "data[[x for x in data.columns if re.search('V[0-9]',x)]] = data[[x for x in data.columns if re.search('V[0-9]',x)]].fillna(0)"
      ],
      "metadata": {
        "execution": {
          "iopub.status.busy": "2022-08-25T10:00:01.400955Z",
          "iopub.execute_input": "2022-08-25T10:00:01.40135Z",
          "iopub.status.idle": "2022-08-25T10:00:01.411891Z",
          "shell.execute_reply.started": "2022-08-25T10:00:01.401314Z",
          "shell.execute_reply": "2022-08-25T10:00:01.410789Z"
        },
        "trusted": true,
        "id": "V-WLvzdGZc7n"
      },
      "execution_count": null,
      "outputs": []
    },
    {
      "cell_type": "markdown",
      "source": [
        "### 'Flag' variables are binary indicators for geographic scope, they are included in calculating the index variables, such as Government Responce Index etc. Let's examine them."
      ],
      "metadata": {
        "id": "J_w6qwh2Zc7n"
      }
    },
    {
      "cell_type": "markdown",
      "source": [],
      "metadata": {
        "id": "Cj2bXccaZc7n"
      }
    },
    {
      "cell_type": "code",
      "source": [
        "for col in data:\n",
        "    if \"Flag\" in col:\n",
        "        print(data[col].value_counts(),data[col].isnull().sum())"
      ],
      "metadata": {
        "execution": {
          "iopub.status.busy": "2022-08-25T10:00:01.413756Z",
          "iopub.execute_input": "2022-08-25T10:00:01.414502Z",
          "iopub.status.idle": "2022-08-25T10:00:01.440434Z",
          "shell.execute_reply.started": "2022-08-25T10:00:01.414451Z",
          "shell.execute_reply": "2022-08-25T10:00:01.4393Z"
        },
        "trusted": true,
        "id": "1n_-pKavZc7n"
      },
      "execution_count": null,
      "outputs": []
    },
    {
      "cell_type": "markdown",
      "source": [
        "### There are many missing values as well as class imbalance so we remove them"
      ],
      "metadata": {
        "id": "AUG6azSWZc7n"
      }
    },
    {
      "cell_type": "code",
      "source": [
        "data = data.drop([x for x in data.columns if \"Flag\" in x],axis=1)"
      ],
      "metadata": {
        "execution": {
          "iopub.status.busy": "2022-08-25T10:00:01.442442Z",
          "iopub.execute_input": "2022-08-25T10:00:01.442927Z",
          "iopub.status.idle": "2022-08-25T10:00:01.453862Z",
          "shell.execute_reply.started": "2022-08-25T10:00:01.44287Z",
          "shell.execute_reply": "2022-08-25T10:00:01.452765Z"
        },
        "trusted": true,
        "id": "4BIWsR_XZc7n"
      },
      "execution_count": null,
      "outputs": []
    },
    {
      "cell_type": "markdown",
      "source": [
        "### To further imporve the data preprocessing let's count all columns with a singular unique value and then check if the different countries in the panel data have a similar pattern of columns with a singular value"
      ],
      "metadata": {
        "id": "0HrassO9Zc7n"
      }
    },
    {
      "cell_type": "code",
      "source": [
        "vals = pd.Series() #singalar value columns per country\n",
        "lists = [] #a list of all vals\n",
        "\n",
        "for i in range(0,len(countries)):\n",
        "    vals = data[data['CountryName']==countries[i]].apply(lambda col: len(col.dropna().unique())) == 1\n",
        "    lists.append(vals[vals==True].index)\n",
        "\n",
        "ident = [] #a list for all variables in lists\n",
        "\n",
        "for i in lists:\n",
        "    for j in i:\n",
        "        ident.append(j)\n",
        "\n",
        "print('Indentically singular columns are:')\n",
        "\n",
        "for i in set(ident):\n",
        "\n",
        "    if ident.count(i) == len(lists):\n",
        "        print(i)"
      ],
      "metadata": {
        "execution": {
          "iopub.status.busy": "2022-08-25T10:00:01.45552Z",
          "iopub.execute_input": "2022-08-25T10:00:01.456014Z",
          "iopub.status.idle": "2022-08-25T10:00:01.569403Z",
          "shell.execute_reply.started": "2022-08-25T10:00:01.455956Z",
          "shell.execute_reply": "2022-08-25T10:00:01.568156Z"
        },
        "trusted": true,
        "id": "l9rPQEKnZc7n"
      },
      "execution_count": null,
      "outputs": []
    },
    {
      "cell_type": "markdown",
      "source": [
        "### There is a pattern of singular value columns between the countries and we have also discovered that some countries have had mandatory vaccination policies, while others haven't had. This a feature that we will analyze, but first let's remove singular value columns."
      ],
      "metadata": {
        "id": "L3HveADRZc7n"
      }
    },
    {
      "cell_type": "code",
      "source": [
        "ident = set([x for x in ident if ident.count(x) == len(lists)]) #obtain the uniformly singular columns\n",
        "\n",
        "# Check if 'CountryName' is in the set before attempting to remove it\n",
        "if 'CountryName' in ident:\n",
        "    ident.remove('CountryName') #we want to keep country name\n",
        "\n",
        "data = data.drop(ident,axis=1)\n",
        "data.shape #check the number of remaining columns"
      ],
      "metadata": {
        "execution": {
          "iopub.status.busy": "2022-08-25T10:00:01.570728Z",
          "iopub.execute_input": "2022-08-25T10:00:01.571104Z",
          "iopub.status.idle": "2022-08-25T10:00:01.581589Z",
          "shell.execute_reply.started": "2022-08-25T10:00:01.571048Z",
          "shell.execute_reply": "2022-08-25T10:00:01.580332Z"
        },
        "trusted": true,
        "id": "JDlUHXPiZc7n"
      },
      "execution_count": null,
      "outputs": []
    },
    {
      "cell_type": "markdown",
      "source": [
        "### Now we want to fill all remaining missing values in the data:"
      ],
      "metadata": {
        "id": "sqcvdWcwZc7o"
      }
    },
    {
      "cell_type": "code",
      "source": [
        "plt.figure(figsize = (12, 8))\n",
        "data[data.columns[data.isnull().any()]].isnull().sum().plot(kind='barh') #select only columns with missing data and plot them"
      ],
      "metadata": {
        "execution": {
          "iopub.status.busy": "2022-08-25T10:00:01.583255Z",
          "iopub.execute_input": "2022-08-25T10:00:01.583866Z",
          "iopub.status.idle": "2022-08-25T10:00:01.837344Z",
          "shell.execute_reply.started": "2022-08-25T10:00:01.583804Z",
          "shell.execute_reply": "2022-08-25T10:00:01.836272Z"
        },
        "trusted": true,
        "id": "NcCodgOPZc7o"
      },
      "execution_count": null,
      "outputs": []
    },
    {
      "cell_type": "markdown",
      "source": [
        "### There are only 5 variables left with missing data - one is \"Mandatory vaccination\", categorical variable and the others are numerical variables.\n",
        "### We can assume that the nulls for \"Mandatory vaccination\" are due to vacines not being yet availiable so we can confidently fill them with 0s"
      ],
      "metadata": {
        "id": "Psa8T_nvZc7o"
      }
    },
    {
      "cell_type": "code",
      "source": [
        "data[data.select_dtypes(include=np.number).columns] = data[data.select_dtypes(\n",
        "    include=np.number).columns].fillna(0) #select numerical columns and fill them with 0s\n",
        "\n",
        "data.isnull().sum() #there are no more missing values"
      ],
      "metadata": {
        "execution": {
          "iopub.status.busy": "2022-08-25T10:00:01.838921Z",
          "iopub.execute_input": "2022-08-25T10:00:01.839322Z",
          "iopub.status.idle": "2022-08-25T10:00:01.863223Z",
          "shell.execute_reply.started": "2022-08-25T10:00:01.839286Z",
          "shell.execute_reply": "2022-08-25T10:00:01.862168Z"
        },
        "trusted": true,
        "id": "1_VN_L40Zc7o"
      },
      "execution_count": null,
      "outputs": []
    },
    {
      "cell_type": "markdown",
      "source": [
        "### Drop days where there were no registered cases"
      ],
      "metadata": {
        "id": "1pXr2LFKZc7s"
      }
    },
    {
      "cell_type": "code",
      "source": [
        "#fist day of a registered case:\n",
        "for c in countries:\n",
        "   print(f'The first Covid-19 case in {c} was on:',data[(data['CountryName']==c) & (data['ConfirmedCases'] != 0)].index.min())\n",
        "\n",
        "#let's drop the dates before 2020-03-09:\n",
        "data = data[data.index > '2020-03-09']"
      ],
      "metadata": {
        "execution": {
          "iopub.status.busy": "2022-08-25T10:00:01.864897Z",
          "iopub.execute_input": "2022-08-25T10:00:01.865409Z",
          "iopub.status.idle": "2022-08-25T10:00:01.885239Z",
          "shell.execute_reply.started": "2022-08-25T10:00:01.865362Z",
          "shell.execute_reply": "2022-08-25T10:00:01.884114Z"
        },
        "trusted": true,
        "id": "Z1sijNv_Zc7s"
      },
      "execution_count": null,
      "outputs": []
    },
    {
      "cell_type": "markdown",
      "source": [
        "### We removed the unnecasary data and villed in the missing variables, the data is clean and tidy - we can now start the data analysis. We'll begin by calculating the number of daily cases for each contry - the \"daily_cases\" variable:"
      ],
      "metadata": {
        "id": "Cw_TTwA4Zc7s"
      }
    },
    {
      "cell_type": "code",
      "source": [
        "#daily cases feature:\n",
        "daily_cases = pd.Series()\n",
        "\n",
        "for c in countries:\n",
        "    temp = data[data['CountryName']==c]['ConfirmedCases'] - data[\n",
        "            data['CountryName']==c]['ConfirmedCases'].shift(1)\n",
        "    daily_cases = pd.concat([daily_cases,temp],axis = 0)\n",
        "    temp = pd.Series()\n",
        "\n",
        "data['daily_cases'] = daily_cases\n",
        "data['daily_cases'] = data['daily_cases'].fillna(0)"
      ],
      "metadata": {
        "execution": {
          "iopub.status.busy": "2022-08-25T10:00:01.887239Z",
          "iopub.execute_input": "2022-08-25T10:00:01.887727Z",
          "iopub.status.idle": "2022-08-25T10:00:01.917238Z",
          "shell.execute_reply.started": "2022-08-25T10:00:01.887678Z",
          "shell.execute_reply": "2022-08-25T10:00:01.916204Z"
        },
        "trusted": true,
        "id": "_wvY-nBFZc7s"
      },
      "execution_count": null,
      "outputs": []
    },
    {
      "cell_type": "markdown",
      "source": [
        "### Let's now visualize the daily new cases for each country as well as the weekly moving average:"
      ],
      "metadata": {
        "id": "i0wv7WtUZc7s"
      }
    },
    {
      "cell_type": "code",
      "source": [
        "#daily cases jointplot\n",
        "plt.figure(figsize = (16, 10))\n",
        "for i in range(0,len(countries)):\n",
        "    plt.plot(data[data['CountryName']==countries[i]]['daily_cases'].index,\n",
        "             data[data['CountryName']==countries[i]]['daily_cases'],label=countries[i])\n",
        "plt.title(\"Daily new cases per country\")\n",
        "plt.legend()"
      ],
      "metadata": {
        "execution": {
          "iopub.status.busy": "2022-08-25T10:00:01.918897Z",
          "iopub.execute_input": "2022-08-25T10:00:01.919589Z",
          "iopub.status.idle": "2022-08-25T10:00:02.305485Z",
          "shell.execute_reply.started": "2022-08-25T10:00:01.919541Z",
          "shell.execute_reply": "2022-08-25T10:00:02.304712Z"
        },
        "trusted": true,
        "id": "Ccd-HxWwZc7t"
      },
      "execution_count": null,
      "outputs": []
    },
    {
      "cell_type": "code",
      "source": [
        "#7-day moving average\n",
        "plt.figure(figsize = (16, 10))\n",
        "for i in range(0,len(countries)):\n",
        "    plt.plot(data[data['CountryName']==countries[i]]['daily_cases'].index,\n",
        "             data[data['CountryName']==countries[i]]['daily_cases'].rolling(7).mean(),label=countries[i])\n",
        "plt.title(\"Daily new cases moving average\")\n",
        "plt.legend()"
      ],
      "metadata": {
        "execution": {
          "iopub.status.busy": "2022-08-25T10:00:02.306848Z",
          "iopub.execute_input": "2022-08-25T10:00:02.307435Z",
          "iopub.status.idle": "2022-08-25T10:00:02.714627Z",
          "shell.execute_reply.started": "2022-08-25T10:00:02.307397Z",
          "shell.execute_reply": "2022-08-25T10:00:02.713153Z"
        },
        "trusted": true,
        "id": "ZIddboJqZc7t"
      },
      "execution_count": null,
      "outputs": []
    },
    {
      "cell_type": "markdown",
      "source": [
        "### Earlier we noticed the Mandatory vaccination variable and the fact that some countries have had mandatory vaccination while others - not. Let's have a closer by discovering the earliest and latest date when the policy was implemented."
      ],
      "metadata": {
        "id": "Fjm_DKcTZc7t"
      }
    },
    {
      "cell_type": "code",
      "source": [
        "print('First day: ',data[(data['V4_Mandatory Vaccination (summary)']==1) & (data['CountryName']=='Greece')]['Date'].min())\n",
        "print('Last day: ',data[(data['V4_Mandatory Vaccination (summary)']==1) & (data['CountryName']=='Greece')]['Date'].max())"
      ],
      "metadata": {
        "execution": {
          "iopub.status.busy": "2022-08-25T10:00:02.71626Z",
          "iopub.execute_input": "2022-08-25T10:00:02.716711Z",
          "iopub.status.idle": "2022-08-25T10:00:02.731048Z",
          "shell.execute_reply.started": "2022-08-25T10:00:02.716662Z",
          "shell.execute_reply": "2022-08-25T10:00:02.729686Z"
        },
        "trusted": true,
        "id": "4vRKs6CGZc7t"
      },
      "execution_count": null,
      "outputs": []
    },
    {
      "cell_type": "markdown",
      "source": [
        "### Now the same for Albania:"
      ],
      "metadata": {
        "id": "FRDETaHwZc7t"
      }
    },
    {
      "cell_type": "code",
      "source": [
        "print('First day: ',data[(data['V4_Mandatory Vaccination (summary)']==1) & (data['CountryName']=='Albania')]['Date'].min())\n",
        "print('Last day: ',data[(data['V4_Mandatory Vaccination (summary)']==1) & (data['CountryName']=='Albania')]['Date'].max())"
      ],
      "metadata": {
        "execution": {
          "iopub.status.busy": "2022-08-25T10:00:02.732631Z",
          "iopub.execute_input": "2022-08-25T10:00:02.733762Z",
          "iopub.status.idle": "2022-08-25T10:00:02.749463Z",
          "shell.execute_reply.started": "2022-08-25T10:00:02.733723Z",
          "shell.execute_reply": "2022-08-25T10:00:02.748569Z"
        },
        "trusted": true,
        "id": "10QiYbTBZc7t"
      },
      "execution_count": null,
      "outputs": []
    },
    {
      "cell_type": "markdown",
      "source": [
        "### Now let's move on with more feature engineering. We'll create weekly and biweekly changes in Covid cases, based on rolling windows"
      ],
      "metadata": {
        "id": "wnSe_JO7Zc7t"
      }
    },
    {
      "cell_type": "code",
      "source": [
        "#lets creat a week over week variable with a new function:\n",
        "def rolling(window,var):\n",
        "    \"\"\"a percent change function for n-day window periods\"\"\"\n",
        "    w_change = pd.Series()\n",
        "    temp = pd.Series(np.zeros(shape=int(len(data)/len(countries))))\n",
        "\n",
        "    for c in countries:\n",
        "\n",
        "        temp = (data[data['CountryName']==c][var].rolling(\n",
        "            window).sum() - data[data['CountryName']==c][var].shift(window).rolling(\n",
        "                window).sum()) / data[data['CountryName']==c][var].shift(window).rolling(window).sum()\n",
        "\n",
        "        w_change = pd.concat([w_change,temp],axis=0)\n",
        "        temp = pd.Series(np.zeros(shape=int(len(data)/len(countries))))\n",
        "\n",
        "    return(w_change)\n",
        "\n",
        "#create the weekly change variable:\n",
        "weekly = rolling(7,'daily_cases')\n",
        "weekly.index = data.index\n",
        "\n",
        "#visualize new variable\n",
        "plt.figure()\n",
        "weekly.plot()\n",
        "\n",
        "#get some info about the variable\n",
        "print(weekly.describe())\n",
        "\n",
        "#clean inf values\n",
        "weekly[weekly== np.inf] = 0\n",
        "\n",
        "#concat the variable to the dataset\n",
        "data['weekly_change'] = weekly"
      ],
      "metadata": {
        "execution": {
          "iopub.status.busy": "2022-08-25T10:00:02.75073Z",
          "iopub.execute_input": "2022-08-25T10:00:02.751134Z",
          "iopub.status.idle": "2022-08-25T10:00:03.304096Z",
          "shell.execute_reply.started": "2022-08-25T10:00:02.75109Z",
          "shell.execute_reply": "2022-08-25T10:00:03.302771Z"
        },
        "trusted": true,
        "id": "oJFf09b7Zc7t"
      },
      "execution_count": null,
      "outputs": []
    },
    {
      "cell_type": "markdown",
      "source": [
        "### Here we are going to use the function to create a biweekly change variable:"
      ],
      "metadata": {
        "id": "togOwdB4Zc7t"
      }
    },
    {
      "cell_type": "code",
      "source": [
        "#add biweekly change\n",
        "bi_weekly = rolling(14,'daily_cases')\n",
        "\n",
        "bi_weekly.index = data.index\n",
        "data['biweekly_change'] = bi_weekly\n",
        "\n",
        "bi_weekly.describe()"
      ],
      "metadata": {
        "execution": {
          "iopub.status.busy": "2022-08-25T10:00:03.305882Z",
          "iopub.execute_input": "2022-08-25T10:00:03.30654Z",
          "iopub.status.idle": "2022-08-25T10:00:03.353647Z",
          "shell.execute_reply.started": "2022-08-25T10:00:03.306492Z",
          "shell.execute_reply": "2022-08-25T10:00:03.352681Z"
        },
        "trusted": true,
        "id": "LPZ7u8t3Zc7t"
      },
      "execution_count": null,
      "outputs": []
    },
    {
      "cell_type": "markdown",
      "source": [
        "### Now we are ready to do some data analysis using more advanced charts and statistical methods, but let's first take a look at the values of policy index variables:"
      ],
      "metadata": {
        "id": "aE83KhKZZc7u"
      }
    },
    {
      "cell_type": "code",
      "source": [
        "data[[x for x in data.columns if re.search('Index',x)]]"
      ],
      "metadata": {
        "execution": {
          "iopub.status.busy": "2022-08-25T10:00:03.355153Z",
          "iopub.execute_input": "2022-08-25T10:00:03.355521Z",
          "iopub.status.idle": "2022-08-25T10:00:03.384931Z",
          "shell.execute_reply.started": "2022-08-25T10:00:03.355487Z",
          "shell.execute_reply": "2022-08-25T10:00:03.383778Z"
        },
        "trusted": true,
        "id": "_hOlTqjbZc7u"
      },
      "execution_count": null,
      "outputs": []
    },
    {
      "cell_type": "markdown",
      "source": [
        "### Now let's create some plots of the variable \"GovernmentResponseIndex\" and weekly change in cases as a function of time"
      ],
      "metadata": {
        "id": "X-Zz9LsgZc7u"
      }
    },
    {
      "cell_type": "code",
      "source": [
        "total = len(countries)\n",
        "col_len = math.ceil(len(countries)/2)\n",
        "row_len = total // col_len\n",
        "row_len += total % col_len\n",
        "position = range(1,total+1)\n",
        "\n",
        "#weekly change\n",
        "plt.figure(figsize = (18, 12))\n",
        "plt.figure()\n",
        "fig1 = plt.figure(1)\n",
        "for k in range(total):\n",
        "\n",
        "  ax1 = fig1.add_subplot(col_len,row_len,position[k])\n",
        "  fig1.suptitle('Weekly_change vs GovernmentResponseIndex')\n",
        "  ax1.plot(data[data['CountryName']==countries[k]]['weekly_change']*10,\n",
        "           color = list(mcolors.TABLEAU_COLORS.keys())[k])\n",
        "  ax1.plot(data[data['CountryName']==countries[k]]['GovernmentResponseIndex'])\n",
        "  ax1.set_xlabel(countries[k])"
      ],
      "metadata": {
        "execution": {
          "iopub.status.busy": "2022-08-25T10:00:03.386325Z",
          "iopub.execute_input": "2022-08-25T10:00:03.386711Z",
          "iopub.status.idle": "2022-08-25T10:00:04.50468Z",
          "shell.execute_reply.started": "2022-08-25T10:00:03.386678Z",
          "shell.execute_reply": "2022-08-25T10:00:04.50381Z"
        },
        "trusted": true,
        "id": "Iges9pw-Zc7u"
      },
      "execution_count": null,
      "outputs": []
    },
    {
      "cell_type": "markdown",
      "source": [
        "### The indeces are variables in interval scale, ranging from 0 to 100. They are comprised from a linear combination of the specific policy variables,such as \"Workplace_closing by using the following formula:\n",
        "\n",
        "![](https://camo.githubusercontent.com/54eb9a88a8d99e9dd7cfd592b4b5cb3d065fd3f42a101caabbf57a6ae8c90f74/68747470733a2f2f6c617465782e636f6465636f67732e636f6d2f7376672e696d6167653f283529495f2537426a2532437425374425334431303025354366726163253742765f2537426a253243742537442d302e35253238465f2537426a2537442d665f2537426a253243742537442532392537442537424e5f2537426a253744253744)\n",
        "\n",
        "### Where:\n",
        "* (Nj) is the maximum value of the indicator\n",
        "* (Fj) is whether that indicator has a flag (Fj=1 if the indicator has a flag variable, or 0 if the indicator does not have a flag variable)\n",
        "* (vj,t) is the recorded policy value on the ordinal scale\n",
        "* (fj,t) is the recorded binary flag for that indicator\n",
        "\n",
        "The GovernmentResponseIndex variable represents goverment's overall activity in introducing antipandemic policies, and StringencyIndex represent the strictness of measures for example - the higher the variable, the stricter is the locdown policy.\n",
        "\n",
        "### Every index variable is made from the following specific policy variables:\n",
        "\n",
        "![indecestable.png](attachment:6be856bc-55f6-40f6-b6ca-4a3af440c423.png)\n"
      ],
      "metadata": {
        "id": "kueN-U_dZc7u"
      }
    },
    {
      "cell_type": "markdown",
      "source": [
        "\n",
        "### Ok. Let's now do the same plot as above, but with the biweekly change"
      ],
      "metadata": {
        "id": "hOw1ELrsZc7u"
      }
    },
    {
      "cell_type": "code",
      "source": [
        "#biweekly change\n",
        "plt.figure(figsize = (18, 12))\n",
        "plt.figure()\n",
        "fig1 = plt.figure(1)\n",
        "for k in range(total):\n",
        "\n",
        "  ax1 = fig1.add_subplot(col_len,row_len,position[k])\n",
        "  fig1.suptitle('Bieekly_change vs GovernmentResponseIndex')\n",
        "  ax1.plot(data[data['CountryName']==countries[k]]['biweekly_change']*10,\n",
        "           color = list(mcolors.TABLEAU_COLORS.keys())[k])\n",
        "  ax1.plot(data[data['CountryName']==countries[k]]['GovernmentResponseIndex'])\n",
        "  ax1.set_xlabel(countries[k])"
      ],
      "metadata": {
        "execution": {
          "iopub.status.busy": "2022-08-25T10:00:04.508099Z",
          "iopub.execute_input": "2022-08-25T10:00:04.50896Z",
          "iopub.status.idle": "2022-08-25T10:00:05.586699Z",
          "shell.execute_reply.started": "2022-08-25T10:00:04.508921Z",
          "shell.execute_reply": "2022-08-25T10:00:05.585536Z"
        },
        "trusted": true,
        "id": "mAbKgeGAZc7u"
      },
      "execution_count": null,
      "outputs": []
    },
    {
      "cell_type": "markdown",
      "source": [
        "### Let's plot the goverment response and strictness indeces for each country."
      ],
      "metadata": {
        "id": "waO6VakcZc7u"
      }
    },
    {
      "cell_type": "code",
      "source": [
        "#goverment response index and str index\n",
        "plt.figure(figsize = (16, 10))\n",
        "for c in countries:\n",
        "\n",
        "    plt.plot(data[data['CountryName']==c].index, data[data['CountryName']==c]['GovernmentResponseIndex'],label=c)\n",
        "    plt.title('Country GovernmentResponseIndex')\n",
        "    plt.legend(loc='upper left')\n",
        "\n",
        "plt.figure(figsize = (16, 10))\n",
        "for c in countries:\n",
        "\n",
        "    plt.plot(data[data['CountryName']==c].index, data[data['CountryName']==c]['StringencyIndex'],label=c)\n",
        "    plt.title('Country StringencyIndex')\n",
        "    plt.legend(loc='upper left')"
      ],
      "metadata": {
        "execution": {
          "iopub.status.busy": "2022-08-25T10:00:05.588059Z",
          "iopub.execute_input": "2022-08-25T10:00:05.589217Z",
          "iopub.status.idle": "2022-08-25T10:00:06.328147Z",
          "shell.execute_reply.started": "2022-08-25T10:00:05.589172Z",
          "shell.execute_reply": "2022-08-25T10:00:06.327438Z"
        },
        "trusted": true,
        "id": "E4REUwAsZc7u"
      },
      "execution_count": null,
      "outputs": []
    },
    {
      "cell_type": "markdown",
      "source": [
        "### After we've explained the indeces, it should be also usefull to look deeper into the specific policy variables and obtain some information about their values. Let's start with the variables accounting for containment and closure policies:"
      ],
      "metadata": {
        "id": "b8E0l5yeZc7v"
      }
    },
    {
      "cell_type": "code",
      "source": [
        "data[[x for x in data.columns if re.search('C[0-9]',x)]]"
      ],
      "metadata": {
        "execution": {
          "iopub.status.busy": "2022-08-25T10:00:06.329144Z",
          "iopub.execute_input": "2022-08-25T10:00:06.329873Z",
          "iopub.status.idle": "2022-08-25T10:00:06.354901Z",
          "shell.execute_reply.started": "2022-08-25T10:00:06.329839Z",
          "shell.execute_reply": "2022-08-25T10:00:06.353683Z"
        },
        "trusted": true,
        "id": "PgH5NkUvZc7v"
      },
      "execution_count": null,
      "outputs": []
    },
    {
      "cell_type": "markdown",
      "source": [
        "### Let's see a summarize view of the variable's vallues:"
      ],
      "metadata": {
        "id": "rTsxbpFFZc7v"
      }
    },
    {
      "cell_type": "code",
      "source": [
        "[data[x].value_counts() for x in data.columns if re.search('C[0-9]',x)]"
      ],
      "metadata": {
        "execution": {
          "iopub.status.busy": "2022-08-25T10:00:06.356296Z",
          "iopub.execute_input": "2022-08-25T10:00:06.356934Z",
          "iopub.status.idle": "2022-08-25T10:00:06.374262Z",
          "shell.execute_reply.started": "2022-08-25T10:00:06.356894Z",
          "shell.execute_reply": "2022-08-25T10:00:06.373264Z"
        },
        "trusted": true,
        "id": "32MIdP-HZc7v"
      },
      "execution_count": null,
      "outputs": []
    },
    {
      "cell_type": "markdown",
      "source": [
        "### We can see that we are dealing with multiple instances of categorical data, in an ordinal scale. Nevertheless, what interests us the most are the variables for health system policies - H and vaccination policies - V, since the containment and closure policies and economic policies are used to get the StringencyIndex and EconomicSupportIndex and are absorbed in the values of the aforementioned indeces.\n"
      ],
      "metadata": {
        "id": "Y8QVeb63Zc7v"
      }
    },
    {
      "cell_type": "code",
      "source": [
        "data[[x for x in data.columns if re.search('H[0-9]',x)]]"
      ],
      "metadata": {
        "execution": {
          "iopub.status.busy": "2022-08-25T10:00:06.375652Z",
          "iopub.execute_input": "2022-08-25T10:00:06.376053Z",
          "iopub.status.idle": "2022-08-25T10:00:06.403988Z",
          "shell.execute_reply.started": "2022-08-25T10:00:06.37602Z",
          "shell.execute_reply": "2022-08-25T10:00:06.403056Z"
        },
        "trusted": true,
        "id": "mRSUE5u0Zc7v"
      },
      "execution_count": null,
      "outputs": []
    },
    {
      "cell_type": "markdown",
      "source": [
        "### Again, we have categorical variables in an ordinal scale. And finaly, let's see the vaccination policies:"
      ],
      "metadata": {
        "id": "kmMXuk1cZc7v"
      }
    },
    {
      "cell_type": "code",
      "source": [
        "data[[x for x in data.columns if re.search('V[0-9]',x)]]"
      ],
      "metadata": {
        "execution": {
          "iopub.status.busy": "2022-08-25T10:00:06.404984Z",
          "iopub.execute_input": "2022-08-25T10:00:06.405672Z",
          "iopub.status.idle": "2022-08-25T10:00:06.439568Z",
          "shell.execute_reply.started": "2022-08-25T10:00:06.405633Z",
          "shell.execute_reply": "2022-08-25T10:00:06.43855Z"
        },
        "trusted": true,
        "id": "zcsF1PXTZc7v"
      },
      "execution_count": null,
      "outputs": []
    },
    {
      "cell_type": "markdown",
      "source": [
        "### It would be interesting and usefull if we could draw some inferences between the governmet's policies and the rate of change of Covid cases. In order do so, let's first check for correlations between the weekly change and the variables of interest.\n",
        "\n",
        "### We will exclude the GovernmentResponseIndex variable, since it contains too many other features and therefore we'll have multicolinearity"
      ],
      "metadata": {
        "id": "6Zt6gUHDZc7v"
      }
    },
    {
      "cell_type": "markdown",
      "source": [],
      "metadata": {
        "id": "JSepDCnRZc7v"
      }
    },
    {
      "cell_type": "code",
      "source": [
        "#correlation plot indeces and vaccination policies\n",
        "plt.figure(figsize = (20, 14))\n",
        "sns.heatmap(data[['weekly_change','StringencyIndex',\n",
        "                                 'EconomicSupportIndex',\n",
        "                                 'ContainmentHealthIndex','V1_Vaccine Prioritisation (summary)','V2A_Vaccine Availability (summary)',\n",
        "                                 'V4_Mandatory Vaccination (summary)','V2A_Vaccine Availability (summary)',\n",
        "                                 'V3_Vaccine Financial Support (summary)','V2F_Frontline workers  (non healthcare)','V2G_Frontline workers  (healthcare)',\n",
        "                                    'V2E_Education' ,'H2_Testing policy', 'H3_Contact tracing','H4_Emergency investment in healthcare',\n",
        "                                     'H5_Investment in vaccines','H6_Facial Coverings','H7_Vaccination policy','H8_Protection of elderly people']].corr(),annot = True)\n",
        "\n",
        "plt.title('Correlations between govermnet indeces and weekly change of covid cases')"
      ],
      "metadata": {
        "execution": {
          "iopub.status.busy": "2022-08-25T10:00:06.440937Z",
          "iopub.execute_input": "2022-08-25T10:00:06.442198Z",
          "iopub.status.idle": "2022-08-25T10:00:08.412123Z",
          "shell.execute_reply.started": "2022-08-25T10:00:06.442151Z",
          "shell.execute_reply": "2022-08-25T10:00:08.411023Z"
        },
        "trusted": true,
        "id": "1ChXwn1XZc7w"
      },
      "execution_count": null,
      "outputs": []
    },
    {
      "cell_type": "markdown",
      "source": [
        "### And now a second correlation plot using biweekly change"
      ],
      "metadata": {
        "id": "cjw5Z0wnZc7w"
      }
    },
    {
      "cell_type": "code",
      "source": [
        "#correlation plot indeces and vaccination policies\n",
        "plt.figure(figsize = (20, 14))\n",
        "sns.heatmap(data[['biweekly_change','StringencyIndex',\n",
        "                                 'EconomicSupportIndex',\n",
        "                                 'ContainmentHealthIndex','V1_Vaccine Prioritisation (summary)','V2A_Vaccine Availability (summary)',\n",
        "                                 'V4_Mandatory Vaccination (summary)','V2A_Vaccine Availability (summary)',\n",
        "                                 'V3_Vaccine Financial Support (summary)','V2F_Frontline workers  (non healthcare)','V2G_Frontline workers  (healthcare)',\n",
        "                                    'V2E_Education' ,'H2_Testing policy', 'H3_Contact tracing','H4_Emergency investment in healthcare',\n",
        "                                     'H5_Investment in vaccines','H6_Facial Coverings','H7_Vaccination policy','H8_Protection of elderly people']].corr(),annot = True)\n",
        "\n",
        "plt.title('Correlations between govermnet indeces and weekly change of covid cases')"
      ],
      "metadata": {
        "execution": {
          "iopub.status.busy": "2022-08-25T10:00:08.413507Z",
          "iopub.execute_input": "2022-08-25T10:00:08.413863Z",
          "iopub.status.idle": "2022-08-25T10:00:10.385911Z",
          "shell.execute_reply.started": "2022-08-25T10:00:08.41383Z",
          "shell.execute_reply": "2022-08-25T10:00:10.385144Z"
        },
        "trusted": true,
        "id": "a0flNNGtZc7w"
      },
      "execution_count": null,
      "outputs": []
    },
    {
      "cell_type": "markdown",
      "source": [
        "### We have several problems with this correlation matrix. First, we don't see any strong linear relationship between the target variable - biweekly_change and the features. Also, we have multicolinearity between many of the features, this means that we'll have to do some more feature engineering before we continue modelling.\n",
        "\n",
        "### Furthermore, because we analyze time series data, we are dealing with the effect of autocorrelation between the values of the target variable. As a rule of thumb, before modelling we need to remove the trend effect from data. We can do that, by simply shuffling the dataset random so that each observation's place is picked on a random basis by the computer. This will remove the autocorelation in the target variable."
      ],
      "metadata": {
        "id": "6SRueFHMZc7w"
      }
    },
    {
      "cell_type": "markdown",
      "source": [],
      "metadata": {
        "id": "1dkE4xJrZc7w"
      }
    },
    {
      "cell_type": "code",
      "source": [
        "##shuffle dataset to remove the trend effect\n",
        "l = list(range(0,len(data)))\n",
        "random.seed(1) #add random state for reproducibility\n",
        "shuffledList = random.sample(l, k=len(l))\n",
        "\n",
        "sdata = data.iloc[shuffledList]\n",
        "sdata = sdata.dropna(subset=['biweekly_change'])\n",
        "\n",
        "###info about the target\n",
        "sdata['biweekly_change'].describe()\n",
        "\n",
        "#plot the shuffled target\n",
        "plt.figure()\n",
        "pd.Series(sdata['biweekly_change'].values).plot()"
      ],
      "metadata": {
        "execution": {
          "iopub.status.busy": "2022-08-25T10:00:10.386997Z",
          "iopub.execute_input": "2022-08-25T10:00:10.388162Z",
          "iopub.status.idle": "2022-08-25T10:00:10.56728Z",
          "shell.execute_reply.started": "2022-08-25T10:00:10.388111Z",
          "shell.execute_reply": "2022-08-25T10:00:10.566382Z"
        },
        "trusted": true,
        "id": "_GEdAezyZc7w"
      },
      "execution_count": null,
      "outputs": []
    },
    {
      "cell_type": "markdown",
      "source": [
        "### Now we have a target variable that's independent of time. To fix the multicolinearity problem and still preserve as much information as possible we can use the technique known as Principle Component Analysis. For this purpose we will isolate only the highly correlated features and use the technique on them."
      ],
      "metadata": {
        "id": "Y7iTm0bFZc7w"
      }
    },
    {
      "cell_type": "code",
      "source": [
        "#select the required features. the features are of the same scale, so we don't need to transform them\n",
        "features = sdata[['V1_Vaccine Prioritisation (summary)','V2A_Vaccine Availability (summary)',\n",
        "                               'V3_Vaccine Financial Support (summary)' , 'V2E_Education',\n",
        "                                 'V2F_Frontline workers  (non healthcare)',\n",
        "                                 'V2G_Frontline workers  (healthcare)',\n",
        "                                    'V2E_Education' ,'H2_Testing policy','H7_Vaccination policy']]\n",
        "\n",
        "pca = PCA(n_components=3)\n",
        "principalComponents = pca.fit_transform(features)\n",
        "\n",
        "features = pca.transform(features)\n",
        "\n",
        "#get the & of variance explained by the new features\n",
        "print('percentage of explained variance for the first, second and last princip. components respectively: ',pca.explained_variance_ratio_)\n",
        "\n",
        "#flip the signs to the negative plane\n",
        "principalComponents = -principalComponents\n",
        "\n",
        "pc1 = principalComponents[:,0]\n",
        "sdata['vaccine_effect'] = pc1\n",
        "sdata['vaccine_effect'].hist()"
      ],
      "metadata": {
        "execution": {
          "iopub.status.busy": "2022-08-25T10:00:10.568357Z",
          "iopub.execute_input": "2022-08-25T10:00:10.569065Z",
          "iopub.status.idle": "2022-08-25T10:00:10.928328Z",
          "shell.execute_reply.started": "2022-08-25T10:00:10.569029Z",
          "shell.execute_reply": "2022-08-25T10:00:10.92682Z"
        },
        "trusted": true,
        "id": "XtYsHiirZc7w"
      },
      "execution_count": null,
      "outputs": []
    },
    {
      "cell_type": "markdown",
      "source": [
        "### Now, after we created our new varriable, let's convert it back to the ordinal scale"
      ],
      "metadata": {
        "id": "N5wRjxvcZc7w"
      }
    },
    {
      "cell_type": "code",
      "source": [
        "#binning - let's bin the new variable, in order to return it to it's previous ordinal scale:\n",
        "min_value = sdata['vaccine_effect'].min()\n",
        "max_value = sdata['vaccine_effect'].max()\n",
        "\n",
        "bins = np.linspace(min_value,max_value,4)\n",
        "\n",
        "sdata['vac_bins'] = pd.cut(sdata['vaccine_effect'], bins=bins, labels=[0,1,2], include_lowest=True)\n",
        "sdata['vac_bins'] = sdata['vac_bins'].astype('int')\n",
        "\n",
        "plt.figure()\n",
        "sdata['vac_bins'].hist()"
      ],
      "metadata": {
        "execution": {
          "iopub.status.busy": "2022-08-25T10:00:10.929998Z",
          "iopub.execute_input": "2022-08-25T10:00:10.931035Z",
          "iopub.status.idle": "2022-08-25T10:00:11.18348Z",
          "shell.execute_reply.started": "2022-08-25T10:00:10.930982Z",
          "shell.execute_reply": "2022-08-25T10:00:11.182363Z"
        },
        "trusted": true,
        "id": "RB4_gzaeZc7x"
      },
      "execution_count": null,
      "outputs": []
    },
    {
      "cell_type": "markdown",
      "source": [
        "### Neat, we have an ordinal scale variable that's more suitable for the analysis technique we will use next - ANOVA. Before we continue, however, we need to assign some meaning to it. We could imagine that it's a catergory of how availible the vaccines are to the society, with the 0 value being - zero to low proliferation of the vaccine, 1 - medium prolifereation and 2, strong vaccine proliferation."
      ],
      "metadata": {
        "id": "eKvpOgopZc7x"
      }
    },
    {
      "cell_type": "markdown",
      "source": [
        "### Continuing forwards, let's alson bin the StringencyIndex and EconomicSupportIndex features"
      ],
      "metadata": {
        "id": "Q7lfXDn4Zc7x"
      }
    },
    {
      "cell_type": "code",
      "source": [
        "#now we should also rework the indeces - let's make them equally spaced\n",
        "bins = np.arange(0, 120, 20)\n",
        "\n",
        "sdata['strindex_bin'] = pd.cut(sdata['StringencyIndex'], bins=bins, labels=[0,1,2,3,4], include_lowest=True)\n",
        "sdata['strindex_bin'] = sdata['strindex_bin'].astype('int')\n",
        "\n",
        "bins = np.arange(0, 120, 20)\n",
        "\n",
        "sdata['ecoindex_bin'] = pd.cut(sdata['EconomicSupportIndex'], bins=bins, labels=[0,1,2,3,4], include_lowest=True)\n",
        "sdata['ecoindex_bin'] = sdata['ecoindex_bin'].astype('int')"
      ],
      "metadata": {
        "execution": {
          "iopub.status.busy": "2022-08-25T10:00:11.184734Z",
          "iopub.execute_input": "2022-08-25T10:00:11.185091Z",
          "iopub.status.idle": "2022-08-25T10:00:11.200913Z",
          "shell.execute_reply.started": "2022-08-25T10:00:11.185042Z",
          "shell.execute_reply": "2022-08-25T10:00:11.199709Z"
        },
        "trusted": true,
        "id": "cbFq7uxuZc7x"
      },
      "execution_count": null,
      "outputs": []
    },
    {
      "cell_type": "markdown",
      "source": [
        "### Lets visualize our newly created features and their relationship with the response variable using a scattermatrix"
      ],
      "metadata": {
        "id": "WFXEws8dZc7x"
      }
    },
    {
      "cell_type": "code",
      "source": [
        "plt.figure()\n",
        "pd.plotting.scatter_matrix(sdata[['biweekly_change','strindex_bin','ecoindex_bin',\n",
        "                                 'ContainmentHealthIndex','vac_bins']],figsize = (20, 14))"
      ],
      "metadata": {
        "execution": {
          "iopub.status.busy": "2022-08-25T10:00:11.202578Z",
          "iopub.execute_input": "2022-08-25T10:00:11.203323Z",
          "iopub.status.idle": "2022-08-25T10:00:13.524246Z",
          "shell.execute_reply.started": "2022-08-25T10:00:11.203273Z",
          "shell.execute_reply": "2022-08-25T10:00:13.522975Z"
        },
        "trusted": true,
        "id": "5b1AaSBjZc7x"
      },
      "execution_count": null,
      "outputs": []
    },
    {
      "cell_type": "markdown",
      "source": [
        "### The pariplot also allows us to detect the strong linear relation ship of ContainmentHealthIndex with the other features. We will therefore discard it from the analysis to avoid multicolinearity issues. Let's generate a new correlation matrix with the remaining variables, which are already in an ordinal scale."
      ],
      "metadata": {
        "id": "Ag7bJKnqZc7x"
      }
    },
    {
      "cell_type": "code",
      "source": [
        "plt.figure(figsize = (20, 14))\n",
        "sns.heatmap(sdata[['biweekly_change','strindex_bin',\n",
        "                                 'ecoindex_bin',\n",
        "                                 'V4_Mandatory Vaccination (summary)',\n",
        "                                    'H3_Contact tracing','H4_Emergency investment in healthcare',\n",
        "                                     'H5_Investment in vaccines','H6_Facial Coverings',\n",
        "                                     'H8_Protection of elderly people',\n",
        "                                     'vac_bins']].corr(),annot = True)"
      ],
      "metadata": {
        "execution": {
          "iopub.status.busy": "2022-08-25T10:00:13.525792Z",
          "iopub.execute_input": "2022-08-25T10:00:13.526203Z",
          "iopub.status.idle": "2022-08-25T10:00:14.400188Z",
          "shell.execute_reply.started": "2022-08-25T10:00:13.526165Z",
          "shell.execute_reply": "2022-08-25T10:00:14.399139Z"
        },
        "trusted": true,
        "id": "oLcicrT_Zc7x"
      },
      "execution_count": null,
      "outputs": []
    },
    {
      "cell_type": "markdown",
      "source": [
        "### As a rule of thumb, when modeling we mustn't use features with high to medium mutual correaltion. This means that we will also discard the variable Contact_tracing, thus leaving us with 8 remaining features."
      ],
      "metadata": {
        "id": "mkUperHAZc7y"
      }
    },
    {
      "cell_type": "markdown",
      "source": [
        "### Next, we transform the names of the variables to ease our modelling puproses and make them more meaningfull for interpretation"
      ],
      "metadata": {
        "id": "G3eBr_cVZc7y"
      }
    },
    {
      "cell_type": "code",
      "source": [
        "sdata.rename(columns = {'H4_Emergency investment in healthcare':'investments_in_healthcare',\n",
        "                       'V4_Mandatory Vaccination (summary)':'mandatory_vaccination',\n",
        "                       'H6_Facial Coverings':'facial_coverings',\n",
        "                       'H8_Protection of elderly people':'elders_protection_policy',\n",
        "                       'H5_Investment in vaccines':'investments_in_vaccines',\n",
        "                        'vac_bins':'proliferation_of_vaccines',\n",
        "                        'strindex_bin':'level_of_lockdown',\n",
        "                        'ecoindex_bin':'economic_support'\n",
        "                       },\n",
        "            inplace = True)"
      ],
      "metadata": {
        "execution": {
          "iopub.status.busy": "2022-08-25T10:00:14.401769Z",
          "iopub.execute_input": "2022-08-25T10:00:14.402148Z",
          "iopub.status.idle": "2022-08-25T10:00:14.407853Z",
          "shell.execute_reply.started": "2022-08-25T10:00:14.402101Z",
          "shell.execute_reply": "2022-08-25T10:00:14.406937Z"
        },
        "trusted": true,
        "id": "tA1dFrlEZc7y"
      },
      "execution_count": null,
      "outputs": []
    },
    {
      "cell_type": "markdown",
      "source": [
        "### It's time to create the statistical model, which will help us analyze the effect of our policy features on the target variable  - ANOVA."
      ],
      "metadata": {
        "id": "SjtiIDewZc7y"
      }
    },
    {
      "cell_type": "code",
      "source": [
        "model = ols('biweekly_change ~ proliferation_of_vaccines + level_of_lockdown + economic_support + facial_coverings+mandatory_vaccination+elders_protection_policy+investments_in_healthcare+investments_in_vaccines',\n",
        "            data = sdata).fit()\n",
        "\n",
        "anova_result = sm.stats.anova_lm(model, typ=2)\n",
        "print(anova_result)"
      ],
      "metadata": {
        "execution": {
          "iopub.status.busy": "2022-08-25T10:00:14.409091Z",
          "iopub.execute_input": "2022-08-25T10:00:14.409818Z",
          "iopub.status.idle": "2022-08-25T10:00:14.468791Z",
          "shell.execute_reply.started": "2022-08-25T10:00:14.409785Z",
          "shell.execute_reply": "2022-08-25T10:00:14.467782Z"
        },
        "trusted": true,
        "id": "swiITWLkZc7y"
      },
      "execution_count": null,
      "outputs": []
    },
    {
      "cell_type": "markdown",
      "source": [
        "# Results explanation:\n",
        "\n",
        "### The analysis of variance shows interesting results. We can say with a high degree of certainty that the variance in the target varible, caused by the effect of change in the levels of vaccine availability and the lockdown policy are not due to simple chance, with probability: p1(1 - 0.000123) and p2(1 - 0.000804 ) respeclively. Also, two of the other varibles show some level of statisctical significance - facial coverings and elderly protection policy, but in both cases there is a 13% probality that the observed effects are due to chance, which is higher that the usual levels of significance used in most statistical tests - 0.10 and 0.05. This means a 13 % change of a type one error, should we chose to reject the null hypothisis, that the variance caused by the different levels of the features are by mere chance.\n",
        "\n",
        "### On the other hand, the variables economic_support, investments_in_healthcare and investments_in_vaccines show no statistically significant effect on the two-week change in the number of covid cases. However, this does not prove that there is no relationship between the variables. All we can do is say that our linear parametric model can't distinguish these effects from mere chance.\n",
        "\n",
        "### One of ANOVA's limitations is that the model assumes some form of linear relationship between the factors and the target. (Also, some of the features fail the normality assumption) The lack of strong linear relationship proves to be a strong obstacle in our case as well. Therefore, the analysis could be further improved by adressing this issue and using non-linear statistical modelling tools.\n",
        "\n",
        "### We conclude the analysis with a graphic representation of the feature importance and interaction given by the ANOVA model:"
      ],
      "metadata": {
        "id": "v4sE0cg8Zc7y"
      }
    },
    {
      "cell_type": "code",
      "source": [
        "interaction_plot(x=sdata['proliferation_of_vaccines'], trace=sdata['level_of_lockdown'], response=sdata['biweekly_change'])"
      ],
      "metadata": {
        "execution": {
          "iopub.status.busy": "2022-08-25T10:00:14.470661Z",
          "iopub.execute_input": "2022-08-25T10:00:14.47131Z",
          "iopub.status.idle": "2022-08-25T10:00:14.881549Z",
          "shell.execute_reply.started": "2022-08-25T10:00:14.471262Z",
          "shell.execute_reply": "2022-08-25T10:00:14.880483Z"
        },
        "trusted": true,
        "id": "M83VdtIAZc7y"
      },
      "execution_count": null,
      "outputs": []
    },
    {
      "cell_type": "markdown",
      "source": [
        "### An interesting note that we can make using the graph is the fact the linesrepresenting the different levels of the factors cross each other. this could lead to the assumption that there are also interreaction betweeen the effect of the vaccines and the effect of lockdown."
      ],
      "metadata": {
        "id": "OcOZT-JoZc7y"
      }
    }
  ]
}